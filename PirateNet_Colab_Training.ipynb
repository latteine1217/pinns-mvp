{
 "cells": [
  {
   "cell_type": "markdown",
   "metadata": {},
   "source": [
    "# 🚀 PirateNet on Google Colab\n",
    "## 稀疏感測點重建通道流（JHTDB Re_tau=1000）\n",
    "\n",
    "### 📋 本 Notebook 內容\n",
    "1. 環境設定與依賴安裝\n",
    "2. Google Drive 掛載（保存檢查點）\n",
    "3. 資料下載（JHTDB 感測點）\n",
    "4. 訓練 PirateNet（1000 epochs）\n",
    "5. 評估與視覺化\n",
    "\n",
    "### ⚙️ 配置特點\n",
    "- ✅ **修復壁面邊界**：y ∈ [-1, 1]（原錯誤：[0, 2]）\n",
    "- ✅ **修復學習率調度器**：明確啟用 warmup + exponential decay\n",
    "- ✅ **GradNorm 自適應權重**：每 100 steps 更新\n",
    "- ✅ **因果權重**：epsilon=1.0\n",
    "\n",
    "### 🎯 預期結果\n",
    "- 訓練時間：1-2 小時（T4/V100 GPU）\n",
    "- 目標 L2 誤差：≤ 15%\n",
    "- 檢查點自動保存到 Google Drive"
   ]
  },
  {
   "cell_type": "markdown",
   "metadata": {},
   "source": [
    "## 1️⃣ 檢查 GPU 可用性"
   ]
  },
  {
   "cell_type": "code",
   "execution_count": null,
   "metadata": {},
   "outputs": [],
   "source": [
    "import torch\n",
    "print(f\"PyTorch version: {torch.__version__}\")\n",
    "print(f\"CUDA available: {torch.cuda.is_available()}\")\n",
    "if torch.cuda.is_available():\n",
    "    print(f\"GPU: {torch.cuda.get_device_name(0)}\")\n",
    "    print(f\"GPU memory: {torch.cuda.get_device_properties(0).total_memory / 1e9:.2f} GB\")\n",
    "else:\n",
    "    print(\"⚠️ GPU 不可用！請到 Runtime > Change runtime type > GPU\")"
   ]
  },
  {
   "cell_type": "markdown",
   "metadata": {},
   "source": [
    "## 2️⃣ 掛載 Google Drive（保存檢查點）"
   ]
  },
  {
   "cell_type": "code",
   "execution_count": null,
   "metadata": {},
   "outputs": [],
   "source": [
    "from google.colab import drive\n",
    "drive.mount('/content/drive')\n",
    "\n",
    "# 創建專案目錄\n",
    "!mkdir -p /content/drive/MyDrive/pinns-mvp/checkpoints\n",
    "!mkdir -p /content/drive/MyDrive/pinns-mvp/results\n",
    "print(\"✅ Google Drive 已掛載\")"
   ]
  },
  {
   "cell_type": "markdown",
   "metadata": {},
   "source": [
    "## 3️⃣ 克隆專案並安裝依賴"
   ]
  },
  {
   "cell_type": "code",
   "execution_count": null,
   "metadata": {},
   "outputs": [],
   "source": [
    "# 克隆專案（請替換為您的 GitHub URL）\n",
    "!git clone https://github.com/your-username/pinns-mvp.git\n",
    "%cd pinns-mvp\n",
    "\n",
    "# 或者從 Google Drive 載入（如果已上傳）\n",
    "# %cd /content/drive/MyDrive/pinns-mvp"
   ]
  },
  {
   "cell_type": "code",
   "execution_count": null,
   "metadata": {},
   "outputs": [],
   "source": [
    "# 安裝依賴\n",
    "!pip install -q pyyaml h5py tensorboard matplotlib seaborn scipy\n",
    "!pip install -q pyJHTDB  # JHTDB 官方客戶端（可能需要身份驗證）\n",
    "\n",
    "print(\"✅ 依賴已安裝\")"
   ]
  },
  {
   "cell_type": "markdown",
   "metadata": {},
   "source": [
    "## 4️⃣ 下載 JHTDB 資料\n",
    "\n",
    "⚠️ **重要**：如果本地已有資料，可跳過此步驟並從 Google Drive 複製"
   ]
  },
  {
   "cell_type": "code",
   "execution_count": null,
   "metadata": {},
   "outputs": [],
   "source": [
    "# 選項 A：從 JHTDB 下載（需要網路連接）\n",
    "!python scripts/fetch_channel_flow.py --K 50 --output data/jhtdb/channel_flow_re1000\n",
    "\n",
    "# 選項 B：從 Google Drive 複製已有資料\n",
    "# !cp -r /content/drive/MyDrive/pinns-mvp/data ./\n",
    "\n",
    "# 驗證資料完整性\n",
    "!ls -lh data/jhtdb/channel_flow_re1000/"
   ]
  },
  {
   "cell_type": "markdown",
   "metadata": {},
   "source": [
    "## 5️⃣ 驗證配置文件"
   ]
  },
  {
   "cell_type": "code",
   "execution_count": null,
   "metadata": {},
   "outputs": [],
   "source": [
    "import yaml\n",
    "\n",
    "# 載入配置\n",
    "with open('configs/colab_piratenet_1k.yml', 'r') as f:\n",
    "    config = yaml.safe_load(f)\n",
    "\n",
    "# 顯示關鍵配置\n",
    "print(\"📋 訓練配置摘要：\")\n",
    "print(f\"實驗名稱: {config['experiment']['name']}\")\n",
    "print(f\"設備: {config['experiment']['device']}\")\n",
    "print(f\"模型: {config['model']['depth']}×{config['model']['width']}\")\n",
    "print(f\"Epochs: {config['training']['epochs']}\")\n",
    "print(f\"批次大小: {config['training']['batch_size']}\")\n",
    "print(f\"感測點數: {config['sensors']['K']}\")\n",
    "print(f\"\\n✅ 關鍵修復：\")\n",
    "print(f\"壁面位置: y ∈ [{config['data']['domain']['y_min']}, {config['data']['domain']['y_max']}]\")\n",
    "print(f\"學習率調度器: {config['training']['scheduler']['type']}\")\n",
    "print(f\"GradNorm: {config['losses']['adaptive_weights']['enabled']}\")"
   ]
  },
  {
   "cell_type": "markdown",
   "metadata": {},
   "source": [
    "## 6️⃣ 開始訓練 🚀\n",
    "\n",
    "### ⚠️ 重要提示\n",
    "- 訓練時間：約 1-2 小時（T4 GPU）\n",
    "- 檢查點每 100 epochs 保存一次\n",
    "- 可隨時中斷並從檢查點恢復"
   ]
  },
  {
   "cell_type": "code",
   "execution_count": null,
   "metadata": {},
   "outputs": [],
   "source": [
    "# 首次訓練\n",
    "!python scripts/train.py --cfg configs/colab_piratenet_1k.yml\n",
    "\n",
    "# 從檢查點恢復（如果中斷）\n",
    "# !python scripts/train.py --cfg configs/colab_piratenet_1k.yml \\\n",
    "#     --resume checkpoints/colab_piratenet_1k/latest.pth"
   ]
  },
  {
   "cell_type": "markdown",
   "metadata": {},
   "source": [
    "## 7️⃣ 即時監控訓練（另開 Cell 運行）"
   ]
  },
  {
   "cell_type": "code",
   "execution_count": null,
   "metadata": {},
   "outputs": [],
   "source": [
    "# 載入 TensorBoard\n",
    "%load_ext tensorboard\n",
    "%tensorboard --logdir checkpoints/colab_piratenet_1k"
   ]
  },
  {
   "cell_type": "code",
   "execution_count": null,
   "metadata": {},
   "outputs": [],
   "source": [
    "# 或者查看訓練日誌（即時更新）\n",
    "!tail -f log/colab_piratenet_1k/training_stdout.log"
   ]
  },
  {
   "cell_type": "markdown",
   "metadata": {},
   "source": [
    "## 8️⃣ 評估訓練結果"
   ]
  },
  {
   "cell_type": "code",
   "execution_count": null,
   "metadata": {},
   "outputs": [],
   "source": [
    "# 評估最終模型\n",
    "!python scripts/evaluate_piratenet_vs_jhtdb.py \\\n",
    "    --checkpoint checkpoints/colab_piratenet_1k/epoch_1000.pth \\\n",
    "    --config configs/colab_piratenet_1k.yml \\\n",
    "    --device cuda"
   ]
  },
  {
   "cell_type": "markdown",
   "metadata": {},
   "source": [
    "## 9️⃣ 視覺化結果"
   ]
  },
  {
   "cell_type": "code",
   "execution_count": null,
   "metadata": {},
   "outputs": [],
   "source": [
    "import numpy as np\n",
    "import matplotlib.pyplot as plt\n",
    "import json\n",
    "\n",
    "# 載入評估結果\n",
    "with open('results/colab_piratenet_1k/vs_jhtdb_statistics.json', 'r') as f:\n",
    "    stats = json.load(f)\n",
    "\n",
    "# 顯示誤差統計\n",
    "print(\"📊 場變量誤差分析\")\n",
    "print(\"=\" * 60)\n",
    "for field, metrics in stats['statistics'].items():\n",
    "    rel_l2_pct = metrics['relative_l2'] * 100\n",
    "    print(f\"{field}: {rel_l2_pct:.2f}% (RMSE: {metrics['rmse']:.4e})\")\n",
    "\n",
    "print(\"\\n🎯 成功標準檢驗\")\n",
    "print(\"=\" * 60)\n",
    "criteria = stats['success_criteria']\n",
    "print(f\"速度場: {'✅ 通過' if criteria['velocity_success'] else '❌ 未通過'}\")\n",
    "print(f\"壓力場: {'✅ 通過' if criteria['pressure_success'] else '❌ 未通過'}\")\n",
    "print(f\"整體: {'🎉 成功' if criteria['overall_success'] else '⚠️ 需要改進'}\")"
   ]
  },
  {
   "cell_type": "code",
   "execution_count": null,
   "metadata": {},
   "outputs": [],
   "source": [
    "# 繪製誤差柱狀圖\n",
    "fields = list(stats['statistics'].keys())\n",
    "errors = [stats['statistics'][f]['relative_l2'] * 100 for f in fields]\n",
    "\n",
    "plt.figure(figsize=(10, 6))\n",
    "plt.bar(fields, errors, alpha=0.7)\n",
    "plt.axhline(y=15, color='r', linestyle='--', label='目標: 15%')\n",
    "plt.xlabel('場變量', fontsize=12)\n",
    "plt.ylabel('相對 L2 誤差 (%)', fontsize=12)\n",
    "plt.title('PirateNet 預測誤差分析', fontsize=14, fontweight='bold')\n",
    "plt.legend()\n",
    "plt.grid(axis='y', alpha=0.3)\n",
    "plt.tight_layout()\n",
    "plt.savefig('results/colab_piratenet_1k/error_comparison.png', dpi=150)\n",
    "plt.show()"
   ]
  },
  {
   "cell_type": "code",
   "execution_count": null,
   "metadata": {},
   "outputs": [],
   "source": [
    "# 繪製場分佈（中心平面）\n",
    "predictions = np.load('results/colab_piratenet_1k/vs_jhtdb_predictions.npz')\n",
    "grid_shape = predictions['grid_shape']\n",
    "\n",
    "# 重塑為 3D 網格\n",
    "u_pred = predictions['u_pred'].reshape(grid_shape)\n",
    "u_true = predictions['u_true'].reshape(grid_shape)\n",
    "\n",
    "# 取中心切面\n",
    "mid_z = grid_shape[2] // 2\n",
    "u_pred_slice = u_pred[:, :, mid_z]\n",
    "u_true_slice = u_true[:, :, mid_z]\n",
    "\n",
    "# 並排顯示\n",
    "fig, axes = plt.subplots(1, 3, figsize=(18, 5))\n",
    "\n",
    "vmin, vmax = u_true_slice.min(), u_true_slice.max()\n",
    "\n",
    "im1 = axes[0].imshow(u_true_slice.T, cmap='RdBu_r', vmin=vmin, vmax=vmax, aspect='auto')\n",
    "axes[0].set_title('JHTDB 真實場 (u)', fontsize=12, fontweight='bold')\n",
    "axes[0].set_xlabel('x')\n",
    "axes[0].set_ylabel('y')\n",
    "plt.colorbar(im1, ax=axes[0])\n",
    "\n",
    "im2 = axes[1].imshow(u_pred_slice.T, cmap='RdBu_r', vmin=vmin, vmax=vmax, aspect='auto')\n",
    "axes[1].set_title('PirateNet 預測場 (u)', fontsize=12, fontweight='bold')\n",
    "axes[1].set_xlabel('x')\n",
    "axes[1].set_ylabel('y')\n",
    "plt.colorbar(im2, ax=axes[1])\n",
    "\n",
    "error = np.abs(u_pred_slice - u_true_slice)\n",
    "im3 = axes[2].imshow(error.T, cmap='hot', aspect='auto')\n",
    "axes[2].set_title('絕對誤差 |u_pred - u_true|', fontsize=12, fontweight='bold')\n",
    "axes[2].set_xlabel('x')\n",
    "axes[2].set_ylabel('y')\n",
    "plt.colorbar(im3, ax=axes[2])\n",
    "\n",
    "plt.tight_layout()\n",
    "plt.savefig('results/colab_piratenet_1k/field_comparison.png', dpi=150)\n",
    "plt.show()"
   ]
  },
  {
   "cell_type": "markdown",
   "metadata": {},
   "source": [
    "## 🔟 保存結果到 Google Drive"
   ]
  },
  {
   "cell_type": "code",
   "execution_count": null,
   "metadata": {},
   "outputs": [],
   "source": [
    "# 複製檢查點到 Google Drive\n",
    "!cp -r checkpoints/colab_piratenet_1k /content/drive/MyDrive/pinns-mvp/checkpoints/\n",
    "\n",
    "# 複製結果到 Google Drive\n",
    "!cp -r results/colab_piratenet_1k /content/drive/MyDrive/pinns-mvp/results/\n",
    "\n",
    "print(\"✅ 結果已保存到 Google Drive\")\n",
    "print(\"📂 位置: /content/drive/MyDrive/pinns-mvp/\")"
   ]
  },
  {
   "cell_type": "markdown",
   "metadata": {},
   "source": [
    "## 📋 下一步建議\n",
    "\n",
    "### 如果結果未達標（L2 > 15%）\n",
    "1. **增加訓練時間**：改為 2000-5000 epochs\n",
    "2. **增加感測點**：K=50 → K=80-100\n",
    "3. **調整網路結構**：width=768 → width=1024\n",
    "4. **檢查壁面損失**：確認 `wall_loss` 不為 0\n",
    "\n",
    "### 如果達標\n",
    "1. **執行 K-scan 實驗**：驗證最少感測點數\n",
    "2. **進行不確定性量化**：使用 Ensemble 訓練\n",
    "3. **撰寫評估報告**\n",
    "\n",
    "### 故障排除\n",
    "- **NaN 損失**：降低學習率（1e-3 → 5e-4）\n",
    "- **GPU 記憶體不足**：減少批次大小（8192 → 4096）\n",
    "- **訓練中斷**：從最新檢查點恢復（見步驟 6）"
   ]
  }
 ],
 "metadata": {
  "accelerator": "GPU",
  "colab": {
   "gpuType": "T4",
   "provenance": []
  },
  "kernelspec": {
   "display_name": "Python 3",
   "language": "python",
   "name": "python3"
  },
  "language_info": {
   "name": "python",
   "version": "3.10.12"
  }
 },
 "nbformat": 4,
 "nbformat_minor": 0
}
