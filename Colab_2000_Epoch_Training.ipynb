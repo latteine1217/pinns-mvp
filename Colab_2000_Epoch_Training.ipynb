{
  "cells": [
    {
      "cell_type": "markdown",
      "metadata": {},
      "source": [
        "# PINNs MVP - 2000 Epoch 標準化訓練\n",
        "## Google Colab A100 環境\n",
        "\n",
        "---\n",
        "\n",
        "### 📋 訓練配置\n",
        "- **實驗名稱**: `normalization_main_2000epochs`\n",
        "- **Epochs**: 2000\n",
        "- **感測點**: K=50 (QR-Pivot)\n",
        "- **優化器**: Adam (lr=1e-3)\n",
        "- **預計時間**: 2-4 小時\n",
        "\n",
        "### 🎯 目標\n",
        "驗證標準化配置的長期訓練穩定性與收斂性能\n",
        "\n",
        "---"
      ]
    },
    {
      "cell_type": "markdown",
      "metadata": {},
      "source": [
        "## 步驟 1: 掛載 Google Drive 並解壓專案"
      ]
    },
    {
      "cell_type": "code",
      "execution_count": null,
      "metadata": {},
      "outputs": [],
      "source": [
        "# 掛載 Google Drive\n",
        "from google.colab import drive\n",
        "drive.mount('/content/drive')\n",
        "\n",
        "# 列出 Drive 內容（確認文件位置）\n",
        "!ls /content/drive/MyDrive/"
      ]
    },
    {
      "cell_type": "code",
      "execution_count": null,
      "metadata": {},
      "outputs": [],
      "source": [
        "# 解壓專案（假設打包檔案在 Drive 根目錄）\n",
        "!cd /content && tar -xzf /content/drive/MyDrive/pinns-mvp.tar.gz\n",
        "\n",
        "# 切換到專案目錄\n",
        "%cd /content/pinns-mvp\n",
        "\n",
        "# 驗證目錄結構\n",
        "!ls -l"
      ]
    },
    {
      "cell_type": "markdown",
      "metadata": {},
      "source": [
        "## 步驟 2: 環境檢查"
      ]
    },
    {
      "cell_type": "code",
      "execution_count": null,
      "metadata": {},
      "outputs": [],
      "source": [
        "# 運行完整環境檢查\n",
        "!python scripts/colab_setup_check.py"
      ]
    },
    {
      "cell_type": "markdown",
      "metadata": {},
      "source": [
        "## 步驟 3: 安裝依賴（如需要）"
      ]
    },
    {
      "cell_type": "code",
      "execution_count": null,
      "metadata": {},
      "outputs": [],
      "source": [
        "# 檢查 PyTorch 版本\n",
        "import torch\n",
        "print(f\"PyTorch 版本: {torch.__version__}\")\n",
        "print(f\"CUDA 可用: {torch.cuda.is_available()}\")\n",
        "if torch.cuda.is_available():\n",
        "    print(f\"GPU: {torch.cuda.get_device_name(0)}\")"
      ]
    },
    {
      "cell_type": "code",
      "execution_count": null,
      "metadata": {},
      "outputs": [],
      "source": [
        "# 如果需要安裝依賴\n",
        "# !pip install pyyaml h5py scipy matplotlib\n",
        "\n",
        "# 驗證安裝\n",
        "import yaml\n",
        "import numpy as np\n",
        "print(\"✅ 所有依賴已安裝\")"
      ]
    },
    {
      "cell_type": "markdown",
      "metadata": {},
      "source": [
        "## 步驟 4: 啟動訓練（背景運行）"
      ]
    },
    {
      "cell_type": "code",
      "execution_count": null,
      "metadata": {},
      "outputs": [],
      "source": [
        "# 創建輸出目錄\n",
        "!mkdir -p checkpoints/normalization_main_2000epochs\n",
        "!mkdir -p log/normalization_main_2000epochs\n",
        "!mkdir -p results/normalization_main_2000epochs"
      ]
    },
    {
      "cell_type": "code",
      "execution_count": null,
      "metadata": {},
      "outputs": [],
      "source": [
        "# 啟動背景訓練\n",
        "!nohup python scripts/train.py \\\n",
        "  --cfg configs/test_normalization_main_2000epochs.yml \\\n",
        "  > log/normalization_main_2000epochs_stdout.log 2>&1 &\n",
        "\n",
        "# 等待幾秒讓進程啟動\n",
        "import time\n",
        "time.sleep(3)\n",
        "\n",
        "# 檢查進程\n",
        "!ps aux | grep train.py | grep -v grep"
      ]
    },
    {
      "cell_type": "markdown",
      "metadata": {},
      "source": [
        "## 步驟 5: 監控訓練進度"
      ]
    },
    {
      "cell_type": "code",
      "execution_count": null,
      "metadata": {},
      "outputs": [],
      "source": [
        "# 查看最近 30 行日誌\n",
        "!tail -n 30 log/normalization_main_2000epochs/training.log"
      ]
    },
    {
      "cell_type": "code",
      "execution_count": null,
      "metadata": {},
      "outputs": [],
      "source": [
        "# 實時監控日誌（運行此 cell 後會持續輸出，按停止按鈕中斷）\n",
        "!tail -f log/normalization_main_2000epochs/training.log"
      ]
    },
    {
      "cell_type": "code",
      "execution_count": null,
      "metadata": {},
      "outputs": [],
      "source": [
        "# 檢查檢查點\n",
        "!ls -lh checkpoints/normalization_main_2000epochs/"
      ]
    },
    {
      "cell_type": "markdown",
      "metadata": {},
      "source": [
        "## 步驟 6: TensorBoard 可視化"
      ]
    },
    {
      "cell_type": "code",
      "execution_count": null,
      "metadata": {},
      "outputs": [],
      "source": [
        "# 載入 TensorBoard\n",
        "%load_ext tensorboard\n",
        "%tensorboard --logdir log/normalization_main_2000epochs/tensorboard"
      ]
    },
    {
      "cell_type": "markdown",
      "metadata": {},
      "source": [
        "## 步驟 7: 下載結果"
      ]
    },
    {
      "cell_type": "code",
      "execution_count": null,
      "metadata": {},
      "outputs": [],
      "source": [
        "# 壓縮檢查點\n",
        "!tar -czf checkpoints_main_2000epochs.tar.gz \\\n",
        "  checkpoints/normalization_main_2000epochs\n",
        "\n",
        "# 壓縮日誌\n",
        "!tar -czf logs_main_2000epochs.tar.gz \\\n",
        "  log/normalization_main_2000epochs\n",
        "\n",
        "!ls -lh *.tar.gz"
      ]
    },
    {
      "cell_type": "code",
      "execution_count": null,
      "metadata": {},
      "outputs": [],
      "source": [
        "# 下載到本地\n",
        "from google.colab import files\n",
        "\n",
        "files.download('checkpoints_main_2000epochs.tar.gz')\n",
        "files.download('logs_main_2000epochs.tar.gz')"
      ]
    },
    {
      "cell_type": "markdown",
      "metadata": {},
      "source": [
        "## 📝 常用指令參考\n",
        "\n",
        "### 訓練控制\n",
        "```bash\n",
        "# 停止訓練\n",
        "!pkill -f train.py\n",
        "\n",
        "# 從檢查點恢復\n",
        "!python scripts/train.py \\\n",
        "  --cfg configs/test_normalization_main_2000epochs.yml \\\n",
        "  --resume checkpoints/normalization_main_2000epochs/latest.pth\n",
        "```\n",
        "\n",
        "### 監控與診斷\n",
        "```bash\n",
        "# 查看進程\n",
        "!ps aux | grep train.py\n",
        "\n",
        "# 查看 GPU 使用\n",
        "!nvidia-smi\n",
        "\n",
        "# 查看標準輸出日誌\n",
        "!tail -n 50 log/normalization_main_2000epochs_stdout.log\n",
        "```\n",
        "\n",
        "---\n",
        "\n",
        "**最後更新**: 2025-10-17  \n",
        "**文檔**: [COLAB_A100_TRAINING_GUIDE.md](docs/COLAB_A100_TRAINING_GUIDE.md)\n"
      ]
    }
  ],
  "metadata": {
    "accelerator": "GPU",
    "colab": {
      "gpuType": "A100",
      "provenance": []
    },
    "kernelspec": {
      "display_name": "Python 3",
      "name": "python3"
    },
    "language_info": {
      "name": "python"
    }
  },
  "nbformat": 4,
  "nbformat_minor": 0
}
